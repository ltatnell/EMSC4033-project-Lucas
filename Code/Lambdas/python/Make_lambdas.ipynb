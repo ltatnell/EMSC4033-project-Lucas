{
 "cells": [
  {
   "cell_type": "code",
   "execution_count": 9,
   "id": "d51a8689-8aad-4c43-bc5d-5a30e7f7ee2e",
   "metadata": {},
   "outputs": [],
   "source": [
    "from Make_lambdas import *\n",
    "#import statistics"
   ]
  },
  {
   "cell_type": "code",
   "execution_count": 2,
   "id": "853fcff1-83a9-4a3f-aa96-f5b11261fd84",
   "metadata": {},
   "outputs": [],
   "source": [
    "fit = fit_lambdas(test_data_norm, N = 3, std_dev = 0.1)\n",
    "cov_mat = fit[1]\n",
    "chi_sq = fit[2]"
   ]
  },
  {
   "cell_type": "code",
   "execution_count": 3,
   "id": "5c794750-f235-468d-91aa-e09299ee56d4",
   "metadata": {},
   "outputs": [
    {
     "data": {
      "text/plain": [
       "4.014461907611106"
      ]
     },
     "execution_count": 3,
     "metadata": {},
     "output_type": "execute_result"
    }
   ],
   "source": [
    "probability_of_lambdas(cov_mat,chi_sq)\n"
   ]
  },
  {
   "cell_type": "code",
   "execution_count": 4,
   "id": "11dfa005-df71-474a-a996-5a18e8ff9f1b",
   "metadata": {},
   "outputs": [
    {
     "data": {
      "text/latex": [
       "$\\displaystyle 1.68246085865201$"
      ],
      "text/plain": [
       "1.68246085865201"
      ]
     },
     "execution_count": 4,
     "metadata": {},
     "output_type": "execute_result"
    }
   ],
   "source": [
    "chi_sq"
   ]
  },
  {
   "cell_type": "code",
   "execution_count": 5,
   "id": "a0a8d5fe-c07c-430a-a8ca-3858bd94a268",
   "metadata": {},
   "outputs": [
    {
     "name": "stdout",
     "output_type": "stream",
     "text": [
      "[None, None, None, None, None]\n",
      "0\n",
      "1\n",
      "2\n",
      "3\n",
      "4\n"
     ]
    },
    {
     "data": {
      "text/plain": [
       "((1.1441264177580384,\n",
       "  8.181790385343982,\n",
       "  0.0594825943212724,\n",
       "  0.00017855441551951337,\n",
       "  4.061673562962894e-09),\n",
       " (2, 3, 4, 5, 6))"
      ]
     },
     "execution_count": 5,
     "metadata": {},
     "output_type": "execute_result"
    }
   ],
   "source": [
    "probability_of_N_lambdas(test_data_norm,2,6)\n"
   ]
  },
  {
   "cell_type": "code",
   "execution_count": 7,
   "id": "d8326bee-0535-4059-a77a-60c15dbe6e03",
   "metadata": {},
   "outputs": [],
   "source": [
    "a = [1,2,3]\n",
    "b = [2,3,4]"
   ]
  },
  {
   "cell_type": "code",
   "execution_count": 9,
   "id": "cddd9786-5aa4-4cb7-a42f-fc9a7939c009",
   "metadata": {},
   "outputs": [
    {
     "data": {
      "text/plain": [
       "(2, 3, 4)"
      ]
     },
     "execution_count": 9,
     "metadata": {},
     "output_type": "execute_result"
    }
   ],
   "source": [
    "tuple([i+1 for i in a])"
   ]
  },
  {
   "cell_type": "code",
   "execution_count": 10,
   "id": "3b950a42-76a9-4f00-9011-460de3f6e38b",
   "metadata": {},
   "outputs": [
    {
     "data": {
      "text/plain": [
       "[(), (1.05557142857143,), (1.00722390776971, 1.12550769090485)]"
      ]
     },
     "execution_count": 10,
     "metadata": {},
     "output_type": "execute_result"
    }
   ],
   "source": [
    "orthogonal_polynomial_constants(radii)"
   ]
  },
  {
   "cell_type": "code",
   "execution_count": 15,
   "id": "2288b9fc-29da-4a8f-b708-ed70a84b79c5",
   "metadata": {},
   "outputs": [
    {
     "data": {
      "text/plain": [
       "(array([ 2.59463373e+00, -4.18646225e+00, -6.18818910e+01, -1.07159205e+02,\n",
       "        -3.52998237e+03]),\n",
       " array([[ 3.83892936e-05,  1.06965082e-05, -1.46282896e-03,\n",
       "         -5.03648583e-03,  6.06811842e-01],\n",
       "        [ 1.06965082e-05,  1.03608961e-02, -4.51171295e-03,\n",
       "         -1.55349778e-02,  1.87155807e+00],\n",
       "        [-1.46282896e-03, -4.51171295e-03,  4.82830051e+00,\n",
       "          2.12445106e+00, -2.55949165e+02],\n",
       "        [-5.03648583e-03, -1.55349778e-02,  2.12445106e+00,\n",
       "          1.91785519e+03, -8.81243542e+02],\n",
       "        [ 6.06811842e-01,  1.87155807e+00, -2.55949165e+02,\n",
       "         -8.81243542e+02,  8.78180195e+05]]),\n",
       " 0.0279369418562116,\n",
       " 1)"
      ]
     },
     "execution_count": 15,
     "metadata": {},
     "output_type": "execute_result"
    }
   ],
   "source": [
    "best_fit_anomaly(test_data_norm, 5,2)"
   ]
  },
  {
   "cell_type": "code",
   "execution_count": 3,
   "id": "dd6da88f-4a8e-4464-ba5b-37517e87c57a",
   "metadata": {},
   "outputs": [
    {
     "data": {
      "text/plain": [
       "3"
      ]
     },
     "execution_count": 3,
     "metadata": {},
     "output_type": "execute_result"
    }
   ],
   "source": [
    "len([1,2,3])"
   ]
  },
  {
   "cell_type": "code",
   "execution_count": 23,
   "id": "0d36758f-16b8-49bd-90bc-a47ce9d917f2",
   "metadata": {},
   "outputs": [],
   "source": [
    "a = (1,2,3)\n",
    "b = [1,2,3]"
   ]
  },
  {
   "cell_type": "code",
   "execution_count": 25,
   "id": "a1b71f8f-3792-482c-9c81-7021077e37e2",
   "metadata": {},
   "outputs": [
    {
     "data": {
      "text/plain": [
       "'(1, 2, 3)'"
      ]
     },
     "execution_count": 25,
     "metadata": {},
     "output_type": "execute_result"
    }
   ],
   "source": [
    "str(a)\n"
   ]
  },
  {
   "cell_type": "code",
   "execution_count": 26,
   "id": "5a26f0da-6379-4052-b141-46797ec74f92",
   "metadata": {},
   "outputs": [
    {
     "data": {
      "text/plain": [
       "'[1, 2, 3]'"
      ]
     },
     "execution_count": 26,
     "metadata": {},
     "output_type": "execute_result"
    }
   ],
   "source": [
    "str(b)"
   ]
  },
  {
   "cell_type": "code",
   "execution_count": 27,
   "id": "ffb5391b-1919-47ca-adaa-9a0673b919d9",
   "metadata": {},
   "outputs": [
    {
     "data": {
      "text/plain": [
       "'None'"
      ]
     },
     "execution_count": 27,
     "metadata": {},
     "output_type": "execute_result"
    }
   ],
   "source": [
    "str(None)"
   ]
  },
  {
   "cell_type": "code",
   "execution_count": 6,
   "id": "0ca143f0-3c3a-4ac6-85e0-1a6e6b48e392",
   "metadata": {},
   "outputs": [],
   "source": [
    "a = {'a' :[1,2,3],'b' : [2,3,4]}"
   ]
  },
  {
   "cell_type": "code",
   "execution_count": 16,
   "id": "25264db1-a5e9-4efc-9bf1-eab9ddaa98ce",
   "metadata": {},
   "outputs": [
    {
     "name": "stdout",
     "output_type": "stream",
     "text": [
      "2\n",
      "3\n",
      "4\n",
      "5\n"
     ]
    }
   ],
   "source": [
    "for i in range(2,6):\n",
    "    print(i)"
   ]
  },
  {
   "cell_type": "code",
   "execution_count": 8,
   "id": "4f1ced00-b999-4f27-8cf6-d70835c26da1",
   "metadata": {},
   "outputs": [
    {
     "ename": "TypeError",
     "evalue": "unhashable type: 'list'",
     "output_type": "error",
     "traceback": [
      "\u001b[0;31m---------------------------------------------------------------------------\u001b[0m",
      "\u001b[0;31mTypeError\u001b[0m                                 Traceback (most recent call last)",
      "Input \u001b[0;32mIn [8]\u001b[0m, in \u001b[0;36m<cell line: 1>\u001b[0;34m()\u001b[0m\n\u001b[0;32m----> 1\u001b[0m \u001b[43m[\u001b[49m\u001b[38;5;241;43m1\u001b[39;49m\u001b[43m,\u001b[49m\u001b[38;5;241;43m2\u001b[39;49m\u001b[43m,\u001b[49m\u001b[38;5;241;43m3\u001b[39;49m\u001b[43m]\u001b[49m\u001b[43m \u001b[49m\u001b[38;5;129;43;01min\u001b[39;49;00m\u001b[43m \u001b[49m\u001b[43ma\u001b[49m\n",
      "\u001b[0;31mTypeError\u001b[0m: unhashable type: 'list'"
     ]
    }
   ],
   "source": []
  },
  {
   "cell_type": "code",
   "execution_count": 32,
   "id": "20a22be2-c0eb-46cd-a4e1-0ddb0cf6679e",
   "metadata": {},
   "outputs": [],
   "source": [
    "a['c'] = [3,4,556]"
   ]
  },
  {
   "cell_type": "code",
   "execution_count": 33,
   "id": "1c925bc0-f317-4284-8f03-bff268774c1b",
   "metadata": {},
   "outputs": [
    {
     "data": {
      "text/plain": [
       "{'a': [1, 2, 3], 'b': [2, 3, 4], 'c': [3, 4, 556]}"
      ]
     },
     "execution_count": 33,
     "metadata": {},
     "output_type": "execute_result"
    }
   ],
   "source": [
    "a"
   ]
  },
  {
   "cell_type": "code",
   "execution_count": 34,
   "id": "0507591f-e792-416a-b1ca-a9279bd2d819",
   "metadata": {},
   "outputs": [],
   "source": [
    "a['c'] = (1,2)"
   ]
  },
  {
   "cell_type": "code",
   "execution_count": 35,
   "id": "a3e12329-9f94-4f5f-8333-01c3f4c92a35",
   "metadata": {},
   "outputs": [
    {
     "data": {
      "text/plain": [
       "{'a': [1, 2, 3], 'b': [2, 3, 4], 'c': (1, 2)}"
      ]
     },
     "execution_count": 35,
     "metadata": {},
     "output_type": "execute_result"
    }
   ],
   "source": [
    "a"
   ]
  },
  {
   "cell_type": "code",
   "execution_count": 15,
   "id": "5fc94de0-26b2-4b08-8e3f-552a0e25d4fe",
   "metadata": {},
   "outputs": [],
   "source": [
    "a = [1,2,None,3,4,None]"
   ]
  },
  {
   "cell_type": "code",
   "execution_count": 22,
   "id": "244ff6ff-1c3e-4ccb-9c4c-05b0441bec1e",
   "metadata": {},
   "outputs": [],
   "source": [
    "l={i for i,v in enumerate(a) if v == None}"
   ]
  },
  {
   "cell_type": "code",
   "execution_count": 23,
   "id": "67251f5a-133d-4385-878b-134e8c14bb3e",
   "metadata": {},
   "outputs": [
    {
     "data": {
      "text/plain": [
       "{2, 5}"
      ]
     },
     "execution_count": 23,
     "metadata": {},
     "output_type": "execute_result"
    }
   ],
   "source": [
    "l"
   ]
  },
  {
   "cell_type": "code",
   "execution_count": 21,
   "id": "681afd45-9a98-4cc7-b5e9-dbe8254e9dee",
   "metadata": {},
   "outputs": [
    {
     "data": {
      "text/plain": [
       "{2, 4, 5}"
      ]
     },
     "execution_count": 21,
     "metadata": {},
     "output_type": "execute_result"
    }
   ],
   "source": [
    "set(l) | {4,5}"
   ]
  },
  {
   "cell_type": "code",
   "execution_count": 39,
   "id": "8f87b71e-f1e6-4b96-b801-ca24f8b12b94",
   "metadata": {},
   "outputs": [],
   "source": [
    "a = [2,1.1,2,3,4,5,6]"
   ]
  },
  {
   "cell_type": "code",
   "execution_count": 49,
   "id": "0b243497-d63c-4895-941f-4b280b999381",
   "metadata": {},
   "outputs": [
    {
     "data": {
      "text/plain": [
       "1.1"
      ]
     },
     "execution_count": 49,
     "metadata": {},
     "output_type": "execute_result"
    }
   ],
   "source": [
    "min(a)"
   ]
  },
  {
   "cell_type": "code",
   "execution_count": 43,
   "id": "c2863e65-402e-405b-8612-226294038010",
   "metadata": {},
   "outputs": [
    {
     "data": {
      "text/plain": [
       "1"
      ]
     },
     "execution_count": 43,
     "metadata": {},
     "output_type": "execute_result"
    }
   ],
   "source": [
    "np.where(a == np.min(a))[0][0]"
   ]
  },
  {
   "cell_type": "code",
   "execution_count": 52,
   "id": "ef437645-dc5b-4891-a9a9-1faae8dfe2e8",
   "metadata": {},
   "outputs": [
    {
     "data": {
      "text/plain": [
       "1"
      ]
     },
     "execution_count": 52,
     "metadata": {},
     "output_type": "execute_result"
    }
   ],
   "source": [
    "a.index(min(a))"
   ]
  },
  {
   "cell_type": "code",
   "execution_count": 6,
   "id": "2d16b4ee-2b74-44e7-af2c-46bb3cde7677",
   "metadata": {},
   "outputs": [],
   "source": [
    "a = [1,2,3]"
   ]
  },
  {
   "cell_type": "code",
   "execution_count": 8,
   "id": "b6fb7fad-c2e8-41e3-9dce-f251030919b0",
   "metadata": {},
   "outputs": [
    {
     "data": {
      "text/plain": [
       "[1, 4, 9]"
      ]
     },
     "execution_count": 8,
     "metadata": {},
     "output_type": "execute_result"
    }
   ],
   "source": [
    "[i**2 for i in a]\n"
   ]
  },
  {
   "cell_type": "code",
   "execution_count": null,
   "id": "095da1fa-2726-4e81-92e5-f91efa7b4a2e",
   "metadata": {},
   "outputs": [],
   "source": []
  }
 ],
 "metadata": {
  "kernelspec": {
   "display_name": "Python 3 (ipykernel)",
   "language": "python",
   "name": "python3"
  },
  "language_info": {
   "codemirror_mode": {
    "name": "ipython",
    "version": 3
   },
   "file_extension": ".py",
   "mimetype": "text/x-python",
   "name": "python",
   "nbconvert_exporter": "python",
   "pygments_lexer": "ipython3",
   "version": "3.9.7"
  }
 },
 "nbformat": 4,
 "nbformat_minor": 5
}
