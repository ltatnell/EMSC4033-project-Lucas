{
 "cells": [
  {
   "cell_type": "code",
   "execution_count": null,
   "id": "d51a8689-8aad-4c43-bc5d-5a30e7f7ee2e",
   "metadata": {},
   "outputs": [],
   "source": [
    "from Make_lambdas import *\n",
    "#import statistics"
   ]
  },
  {
   "cell_type": "code",
   "execution_count": 4,
   "id": "853fcff1-83a9-4a3f-aa96-f5b11261fd84",
   "metadata": {},
   "outputs": [],
   "source": [
    "a = fit_lambdas(test_data_norm, N = 4)                               "
   ]
  },
  {
   "cell_type": "code",
   "execution_count": 5,
   "id": "5c794750-f235-468d-91aa-e09299ee56d4",
   "metadata": {},
   "outputs": [
    {
     "data": {
      "text/plain": [
       "(array([   2.60102661,   -4.16674509,  -64.57836527, -116.44339385]),\n",
       " array([[ 9.53923227e-05, -2.01870820e-12, -4.01565843e-10,\n",
       "         -1.42981953e-07],\n",
       "        [-2.01870820e-12,  2.82121899e-02, -6.02142928e-09,\n",
       "          1.05196016e-06],\n",
       "        [-4.01565843e-10, -6.02142928e-09,  1.15037529e+01,\n",
       "          1.89030881e-06],\n",
       "        [-1.42981953e-07,  1.05196016e-06,  1.89030881e-06,\n",
       "          5.21892780e+03]]))"
      ]
     },
     "execution_count": 5,
     "metadata": {},
     "output_type": "execute_result"
    }
   ],
   "source": [
    "a\n"
   ]
  },
  {
   "cell_type": "code",
   "execution_count": 2,
   "id": "11dfa005-df71-474a-a996-5a18e8ff9f1b",
   "metadata": {},
   "outputs": [
    {
     "name": "stdout",
     "output_type": "stream",
     "text": [
      "Defaulting to user installation because normal site-packages is not writeable\n",
      "Collecting sympy\n",
      "  Downloading sympy-1.10.1-py3-none-any.whl (6.4 MB)\n",
      "\u001b[2K     \u001b[90m━━━━━━━━━━━━━━━━━━━━━━━━━━━━━━━━━━━━━━━━\u001b[0m \u001b[32m6.4/6.4 MB\u001b[0m \u001b[31m81.1 MB/s\u001b[0m eta \u001b[36m0:00:00\u001b[0m:00:01\u001b[0m00:01\u001b[0m\n",
      "\u001b[?25hCollecting mpmath>=0.19\n",
      "  Downloading mpmath-1.2.1-py3-none-any.whl (532 kB)\n",
      "\u001b[2K     \u001b[90m━━━━━━━━━━━━━━━━━━━━━━━━━━━━━━━━━━━━━━\u001b[0m \u001b[32m532.6/532.6 KB\u001b[0m \u001b[31m58.1 MB/s\u001b[0m eta \u001b[36m0:00:00\u001b[0m\n",
      "\u001b[?25hInstalling collected packages: mpmath, sympy\n",
      "\u001b[33m  WARNING: The script isympy is installed in '/home/jupyter-u6079899/.local/bin' which is not on PATH.\n",
      "  Consider adding this directory to PATH or, if you prefer to suppress this warning, use --no-warn-script-location.\u001b[0m\u001b[33m\n",
      "\u001b[0mSuccessfully installed mpmath-1.2.1 sympy-1.10.1\n"
     ]
    }
   ],
   "source": []
  },
  {
   "cell_type": "code",
   "execution_count": 15,
   "id": "a0a8d5fe-c07c-430a-a8ca-3858bd94a268",
   "metadata": {},
   "outputs": [
    {
     "name": "stdout",
     "output_type": "stream",
     "text": [
      "(0, 1)\n",
      "(1, 2)\n"
     ]
    }
   ],
   "source": [
    "for i in enumerate(range(1,3)):\n",
    "    print(i)\n"
   ]
  },
  {
   "cell_type": "code",
   "execution_count": 16,
   "id": "d8326bee-0535-4059-a77a-60c15dbe6e03",
   "metadata": {},
   "outputs": [
    {
     "name": "stdout",
     "output_type": "stream",
     "text": [
      "Object `lambda` not found.\n"
     ]
    }
   ],
   "source": []
  },
  {
   "cell_type": "code",
   "execution_count": 3,
   "id": "2288b9fc-29da-4a8f-b708-ed70a84b79c5",
   "metadata": {},
   "outputs": [
    {
     "data": {
      "text/plain": [
       "[1, 1, 1, 1, 1]"
      ]
     },
     "execution_count": 3,
     "metadata": {},
     "output_type": "execute_result"
    }
   ],
   "source": [
    "[1]*5"
   ]
  },
  {
   "cell_type": "code",
   "execution_count": 3,
   "id": "dd6da88f-4a8e-4464-ba5b-37517e87c57a",
   "metadata": {},
   "outputs": [
    {
     "data": {
      "text/plain": [
       "3"
      ]
     },
     "execution_count": 3,
     "metadata": {},
     "output_type": "execute_result"
    }
   ],
   "source": [
    "len([1,2,3])"
   ]
  },
  {
   "cell_type": "code",
   "execution_count": null,
   "id": "0d36758f-16b8-49bd-90bc-a47ce9d917f2",
   "metadata": {},
   "outputs": [],
   "source": []
  }
 ],
 "metadata": {
  "kernelspec": {
   "display_name": "Python 3 (ipykernel)",
   "language": "python",
   "name": "python3"
  },
  "language_info": {
   "codemirror_mode": {
    "name": "ipython",
    "version": 3
   },
   "file_extension": ".py",
   "mimetype": "text/x-python",
   "name": "python",
   "nbconvert_exporter": "python",
   "pygments_lexer": "ipython3",
   "version": "3.9.7"
  }
 },
 "nbformat": 4,
 "nbformat_minor": 5
}
