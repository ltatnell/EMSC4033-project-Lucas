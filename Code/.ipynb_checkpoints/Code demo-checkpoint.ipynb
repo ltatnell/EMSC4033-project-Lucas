{
 "cells": [
  {
   "cell_type": "markdown",
   "id": "d514f019-b059-48db-90b7-635294b02dfc",
   "metadata": {},
   "source": [
    "# Probabilties for N lambdas\n",
    "\n",
    "This notebook demonstrates the functions found in src/python/Make_lambdas. These functions construct orthogonal polynomials to a set of data of the form:\n",
    "\n",
    "\n",
    "$$ data(x) = \\lambda_0 + \\lambda_1 f_1^{orth} + \\lambda_2 f_2^{orth} + \\lambda_3 f_3^{orth} + ... $$\n",
    "\n",
    "and\n",
    "\n",
    "  $$    f_N^{orth} = \\prod_{j=1}^{N} x - \\alpha_j  $$\n",
    "\n",
    "where $\\alpha_j$ are chosen such that the inner product of $f_k^{orth}$ and $f_p^{orth}$ is 0 if $k \\neq p$ for the given data. $\\lambda$s are chosen to minimise $X^2$ for a given set of data.\n",
    "\n",
    "For rare earth element patterns, which are parameterised in terms of their ionic radii, the $\\lambda_i$ coefficients describe the contributions of order i polynomials. These are useful for geochemical inferences, however it is often difficult to determine how many $\\lambda$s are appropriate to describe a pattern, given the error in the data.\n",
    "\n",
    "Here, I attempt to calculate probabilities for the fit to the data of varying amounts of $\\lambda$s, given the error in the data. The covariance matrix of the $\\lambda$s, the $X^2$ statistic and an estimated instrumental uncertainty are used to construct this probability. \n",
    "\n",
    "To do this, first we load some REE data. This dataset is a compilation of global porphyry forming magmas, compiled by Robert Loucks.\n"
   ]
  },
  {
   "cell_type": "code",
   "execution_count": 3,
   "id": "b4a0edb6-bbe8-4bb4-8e3e-e1975c2751ee",
   "metadata": {},
   "outputs": [],
   "source": [
    "from src.python.dependencies import *\n",
    "from src.python.Make_lambdas import *\n",
    "import matplotlib.pyplot as plt"
   ]
  },
  {
   "cell_type": "code",
   "execution_count": 4,
   "id": "e1a75ae6-3374-4de6-8d5b-7da08e00e2c4",
   "metadata": {},
   "outputs": [],
   "source": [
    "demo_data = pd.read_csv('all porphyry REE data.csv')\n",
    "#drop the columns which dont have REE\n",
    "demo_data = demo_data.drop( ['Unnamed: 0','group'],axis = 1)"
   ]
  },
  {
   "cell_type": "markdown",
   "id": "913e034d-ed16-438e-8ac9-4c0d6346f8d9",
   "metadata": {},
   "source": [
    "To get the probability of N lambdas we can use the function probability_of_lambdas()\n",
    "\n",
    "First, we parameterise a log-CI-normalised REE pattern to N lambdas.\n",
    "We will do this to a pattern in demo_data:"
   ]
  },
  {
   "cell_type": "code",
   "execution_count": 3,
   "id": "45018b7e-bcde-4cfb-bf7d-fbe90c453b17",
   "metadata": {},
   "outputs": [
    {
     "name": "stdout",
     "output_type": "stream",
     "text": [
      "[   2.25577885   17.5211526    81.86928444 -992.66348763]\n"
     ]
    }
   ],
   "source": [
    "REE_pattern = demo_data.iloc[4]\n",
    "\n",
    "#normalise and take logarithm\n",
    "normalised_REE_pattern = [math.log(a/b) for a,b in zip(REE_pattern,CI_ree)]\n",
    "\n",
    "#find which anomaly fits the data best assuming 1% instrumental error (std_dev)\n",
    "REE_lambdas = best_fit_anomaly(normalised_REE_pattern, N = 4,std_dev = 1)\n",
    "\n",
    "print(REE_lambdas[0])"
   ]
  },
  {
   "cell_type": "markdown",
   "id": "aab8a3b8-2583-4d25-b402-e416addca0f7",
   "metadata": {},
   "source": [
    "best_fit_anomaly() checks which anomaly fits the data the best out of Ce anomaly, Eu anomaly, both Ce and Eu anomaly or no anomaly.\n",
    "It then returns 3 things:  \n",
    "\n",
    "(1) a list of N lambdas  \n",
    "(2) an array which is the covariance matrix for those lambdas  \n",
    "(3) the reduced chi-squared statistic  \n",
    "\n",
    "The covariance matrix and chi-squared statistic can be used to calculate a self-relative probability for those N lambdas:\n"
   ]
  },
  {
   "cell_type": "code",
   "execution_count": 4,
   "id": "226ff7b8-ba1c-4307-928b-cd638058615f",
   "metadata": {},
   "outputs": [
    {
     "name": "stdout",
     "output_type": "stream",
     "text": [
      "0.01093462057432511\n"
     ]
    }
   ],
   "source": [
    "probability = probability_of_lambdas(cov_matrix = REE_lambdas[1], chi_sq = REE_lambdas[2])\n",
    "\n",
    "print(probability)"
   ]
  },
  {
   "cell_type": "markdown",
   "id": "79328323-c135-4b4f-8ffb-cdc357f2742a",
   "metadata": {},
   "source": [
    "This probability is meaningless by itself, but is relative to the probabilities of other N. So if we get probabilities for N = 1 to 5, the probabilities are self-relative, and whichever is the highest is most likely:"
   ]
  },
  {
   "cell_type": "code",
   "execution_count": 5,
   "id": "544e9112-ca6c-430b-bf5e-29eb68a692b6",
   "metadata": {
    "tags": []
   },
   "outputs": [
    {
     "name": "stdout",
     "output_type": "stream",
     "text": [
      "((1.5207664107707267e-24, 0.16808151126743726, 0.5684100597518085, 0.2634440235831713, 6.44053975830872e-05), (1, 2, 3, 4, 5))\n"
     ]
    }
   ],
   "source": [
    "probabilities_of_N = probability_of_N_lambdas(normalised_REE_pattern, min_N = 1, max_N = 5, std_dev = 1)\n",
    "\n",
    "print(probabilities_of_N)"
   ]
  },
  {
   "cell_type": "markdown",
   "id": "3037d8b6-1321-42a2-9ef4-dece7e145660",
   "metadata": {
    "tags": []
   },
   "source": [
    "For this pattern with 1% instrumental error, we can see that 3 lambdas (lambdas 0-2) probably have significance, with lambda 3 possibly having significance. Here is where a limitation of this technique becomes apparent; many datasets (such as this dataset) do not give instrumental errors for REE analyses (which is very annoying). If we instead assume 2% instrumental error:"
   ]
  },
  {
   "cell_type": "code",
   "execution_count": 6,
   "id": "6ae215a2-a7a6-4fe6-82e3-51660f06ac3c",
   "metadata": {},
   "outputs": [
    {
     "name": "stdout",
     "output_type": "stream",
     "text": [
      "((1.858851123455231e-12, 0.5994227366818938, 0.3249639621727237, 0.0755950102677301, 1.829087579350737e-05), (1, 2, 3, 4, 5))\n"
     ]
    }
   ],
   "source": [
    "probabilities_of_N = probability_of_N_lambdas(normalised_REE_pattern, min_N = 1, max_N = 5, std_dev = 2)\n",
    "\n",
    "print(probabilities_of_N)"
   ]
  },
  {
   "cell_type": "markdown",
   "id": "c7e7766b-b752-4f57-b28d-723586fed5e5",
   "metadata": {},
   "source": [
    "2 lambdas (lambda 0 and lambda 1) becomes the most likely fit to the data. In this case, when looking at the REE pattern, it clearly does have a quadratic component (lambda 2). The heavy REE (lowest radii, right side of the plot) curve upwards, indicating a quadratic component, however the quality of data is fairly poor."
   ]
  },
  {
   "cell_type": "code",
   "execution_count": 7,
   "id": "c746947e-0a9b-451c-8b09-697e67e41448",
   "metadata": {},
   "outputs": [
    {
     "data": {
      "text/plain": [
       "<function matplotlib.pyplot.show(close=None, block=None)>"
      ]
     },
     "execution_count": 7,
     "metadata": {},
     "output_type": "execute_result"
    },
    {
     "data": {
      "image/png": "[encoded data removed]",
      "text/plain": [
       "<Figure size 432x288 with 1 Axes>"
      ]
     },
     "metadata": {
      "needs_background": "light"
     },
     "output_type": "display_data"
    }
   ],
   "source": [
    "plt.plot(radii, normalised_REE_pattern)\n",
    "plt.xlim(right = min(radii),left = max(radii))\n",
    "plt.xlabel(\"REE radii\")\n",
    "plt.ylabel(\"log-CI normalised REE\")\n",
    "plt.show"
   ]
  },
  {
   "cell_type": "markdown",
   "id": "5b95527f-9669-4e56-a0e3-8998710201e7",
   "metadata": {},
   "source": [
    "If we instead construct a \"perfect\" fit using the program AlambdaR (https://lambdar.rses.anu.edu.au/alambdar/) with very high lambda4, the probability of 4 lambdas fitting the data is much higher than the other lambdas, including lambda5:"
   ]
  },
  {
   "cell_type": "code",
   "execution_count": 8,
   "id": "4d30a7b8-f016-4413-ac59-85e0cf787ca5",
   "metadata": {},
   "outputs": [
    {
     "name": "stdout",
     "output_type": "stream",
     "text": [
      "((2.2432286696705025e-85, 7.115253679916196e-69, 2.5590740552463148e-14, 2.0947992235264044e-10, 0.9988151397338134, 0.0011848600566810603), (1, 2, 3, 4, 5, 6))\n"
     ]
    }
   ],
   "source": [
    "perfect_fit_normalised = [4.864,4.139,3.080,1.892,0.003,-0.579,-0.951,-1.080,-0.944,-0.573,-0.022,0.648,1.385,2.140]\n",
    "\n",
    "probabilities_of_perfect_N = probability_of_N_lambdas(perfect_fit_normalised, min_N = 1, max_N = 6, std_dev = 1)\n",
    "\n",
    "print(probabilities_of_perfect_N)"
   ]
  },
  {
   "cell_type": "markdown",
   "id": "47614c4c-9d37-4e77-acd4-628fbeb4c85b",
   "metadata": {},
   "source": [
    "So calculating probabilities in this way seems to only be useful if the standard deviation from instrumental error is known (mean standard deviation for all analysed REE). Unfortunately, many (especially older) datasets dont report this for some reason. However, with modern analysis techniques and high quality data, calculating probabilities of lambdas could be a very useful way to decide which lambdas have meaning. Below, I calculate the most likely lambda up to lambda5 for the whole demo_data assuming an instrumental error of 1%. \n",
    "\n",
    "Be warned, this takes a while to compute."
   ]
  },
  {
   "cell_type": "code",
   "execution_count": 12,
   "id": "5220b962-ae0f-4770-937c-ac07747c5c0d",
   "metadata": {},
   "outputs": [
    {
     "data": {
      "text/html": [
       "<div>\n",
       "<style scoped>\n",
       "    .dataframe tbody tr th:only-of-type {\n",
       "        vertical-align: middle;\n",
       "    }\n",
       "\n",
       "    .dataframe tbody tr th {\n",
       "        vertical-align: top;\n",
       "    }\n",
       "\n",
       "    .dataframe thead th {\n",
       "        text-align: right;\n",
       "    }\n",
       "</style>\n",
       "<table border=\"1\" class=\"dataframe\">\n",
       "  <thead>\n",
       "    <tr style=\"text-align: right;\">\n",
       "      <th></th>\n",
       "      <th>0</th>\n",
       "      <th>1</th>\n",
       "    </tr>\n",
       "  </thead>\n",
       "  <tbody>\n",
       "    <tr>\n",
       "      <th>0</th>\n",
       "      <td>0.000000</td>\n",
       "      <td>0.0</td>\n",
       "    </tr>\n",
       "    <tr>\n",
       "      <th>1</th>\n",
       "      <td>0.000000</td>\n",
       "      <td>0.0</td>\n",
       "    </tr>\n",
       "    <tr>\n",
       "      <th>2</th>\n",
       "      <td>0.000000</td>\n",
       "      <td>0.0</td>\n",
       "    </tr>\n",
       "    <tr>\n",
       "      <th>3</th>\n",
       "      <td>0.589128</td>\n",
       "      <td>3.0</td>\n",
       "    </tr>\n",
       "    <tr>\n",
       "      <th>4</th>\n",
       "      <td>0.568410</td>\n",
       "      <td>3.0</td>\n",
       "    </tr>\n",
       "    <tr>\n",
       "      <th>...</th>\n",
       "      <td>...</td>\n",
       "      <td>...</td>\n",
       "    </tr>\n",
       "    <tr>\n",
       "      <th>717</th>\n",
       "      <td>0.000000</td>\n",
       "      <td>0.0</td>\n",
       "    </tr>\n",
       "    <tr>\n",
       "      <th>718</th>\n",
       "      <td>0.000000</td>\n",
       "      <td>0.0</td>\n",
       "    </tr>\n",
       "    <tr>\n",
       "      <th>719</th>\n",
       "      <td>0.000000</td>\n",
       "      <td>0.0</td>\n",
       "    </tr>\n",
       "    <tr>\n",
       "      <th>720</th>\n",
       "      <td>0.000000</td>\n",
       "      <td>0.0</td>\n",
       "    </tr>\n",
       "    <tr>\n",
       "      <th>721</th>\n",
       "      <td>0.000000</td>\n",
       "      <td>0.0</td>\n",
       "    </tr>\n",
       "  </tbody>\n",
       "</table>\n",
       "<p>722 rows × 2 columns</p>\n",
       "</div>"
      ],
      "text/plain": [
       "            0    1\n",
       "0    0.000000  0.0\n",
       "1    0.000000  0.0\n",
       "2    0.000000  0.0\n",
       "3    0.589128  3.0\n",
       "4    0.568410  3.0\n",
       "..        ...  ...\n",
       "717  0.000000  0.0\n",
       "718  0.000000  0.0\n",
       "719  0.000000  0.0\n",
       "720  0.000000  0.0\n",
       "721  0.000000  0.0\n",
       "\n",
       "[722 rows x 2 columns]"
      ]
     },
     "execution_count": 12,
     "metadata": {},
     "output_type": "execute_result"
    }
   ],
   "source": [
    "REE_pattern = dataset_probability(demo_data,min_N = 1,max_N = 5, std_dev = 1)\n",
    "\n",
    "#The first column of this is the highest relative probability\n",
    "#The second column is the lambda with that probability\n",
    "REE_pattern"
   ]
  },
  {
   "cell_type": "markdown",
   "id": "fe4de519-e250-4301-bf3f-6c6aab834e86",
   "metadata": {},
   "source": [
    "With this dataset, we can look at which lambdas describe most of the data, given the error in those data. Much of the data here is old data with high error unfortunately, so this sort of analysis indicates that for most of the data, only two lambdas are most likely to describe the data. This is shown in the histogram below.\n",
    "\n",
    "This is probably not the case, and it is likely that more accurate instrumental errors would help clarify this."
   ]
  },
  {
   "cell_type": "code",
   "execution_count": 10,
   "id": "0b3f8251-a2af-4423-be04-6db3329e883f",
   "metadata": {},
   "outputs": [
    {
     "data": {
      "text/plain": [
       "(array([  2., 354.,  49.,  22.]),\n",
       " array([1, 2, 3, 4, 5]),\n",
       " <BarContainer object of 4 artists>)"
      ]
     },
     "execution_count": 10,
     "metadata": {},
     "output_type": "execute_result"
    },
    {
     "data": {
      "image/png": "[encoded data removed]",
      "text/plain": [
       "<Figure size 432x288 with 1 Axes>"
      ]
     },
     "metadata": {
      "needs_background": "light"
     },
     "output_type": "display_data"
    }
   ],
   "source": [
    "plt.hist(REE_pattern[[1]], bins = [1,2,3,4,5])"
   ]
  },
  {
   "cell_type": "markdown",
   "id": "529c3c71-7196-4952-9807-be1bff743e47",
   "metadata": {},
   "source": [
    "Perhaps with more thinking about how to decide on the probability, and with more information about a dataset, this could be useful, but in this case it seems to not be very helpful as instrumental standard deviations are unknown for data. It seems clear that $\\lambda_4$ and $\\lambda_5$ are unlikely to be statistically significant in most REE patterns. However, if very percise and accurate data can be collected, perhaps $\\lambda_4$ and $\\lambda_5$ could become significant."
   ]
  },
  {
   "cell_type": "code",
   "execution_count": null,
   "id": "1793d0dc-2cdf-4ec9-921b-9664aee0ef0f",
   "metadata": {},
   "outputs": [],
   "source": []
  }
 ],
 "metadata": {
  "kernelspec": {
   "display_name": "Python 3 (ipykernel)",
   "language": "python",
   "name": "python3"
  },
  "language_info": {
   "codemirror_mode": {
    "name": "ipython",
    "version": 3
   },
   "file_extension": ".py",
   "mimetype": "text/x-python",
   "name": "python",
   "nbconvert_exporter": "python",
   "pygments_lexer": "ipython3",
   "version": "3.9.7"
  }
 },
 "nbformat": 4,
 "nbformat_minor": 5
}
