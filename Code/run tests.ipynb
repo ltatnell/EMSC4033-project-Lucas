{
 "cells": [
  {
   "cell_type": "code",
   "execution_count": 1,
   "id": "145e32d9-3fe9-4e10-86b1-19a92257e37e",
   "metadata": {},
   "outputs": [],
   "source": [
    "from src.python.Make_lambdas import*\n",
    "from src.python.dependencies import*\n",
    "import pytest"
   ]
  },
  {
   "cell_type": "code",
   "execution_count": 2,
   "id": "e719d218-7dbb-4f7a-a85c-1925288cff5a",
   "metadata": {},
   "outputs": [
    {
     "name": "stdout",
     "output_type": "stream",
     "text": [
      "\u001b[1m============================= test session starts ==============================\u001b[0m\n",
      "platform linux -- Python 3.9.7, pytest-7.1.2, pluggy-1.0.0\n",
      "rootdir: /home/jupyter-u6079899/EMSC4033-project-Lucas/Code\n",
      "plugins: anyio-3.5.0\n",
      "collected 4 items                                                              \u001b[0m\u001b[1m\n",
      "\n",
      "src/test_functions.py \u001b[32m.\u001b[0m\u001b[32m.\u001b[0m\u001b[32m.\u001b[0m\u001b[32m.\u001b[0m\u001b[32m                                               [100%]\u001b[0m\n",
      "\n",
      "\u001b[32m============================== \u001b[32m\u001b[1m4 passed\u001b[0m\u001b[32m in 13.61s\u001b[0m\u001b[32m ==============================\u001b[0m\n"
     ]
    }
   ],
   "source": [
    "! pytest"
   ]
  },
  {
   "cell_type": "code",
   "execution_count": 3,
   "id": "ebe62dac-3557-4441-adc8-4946ea693a90",
   "metadata": {},
   "outputs": [],
   "source": []
  },
  {
   "cell_type": "code",
   "execution_count": 4,
   "id": "fe260c3e-db1f-4489-b0dd-b95343e5201e",
   "metadata": {},
   "outputs": [
    {
     "data": {
      "text/plain": [
       "(1.0716756661569675e-16,\n",
       " 7.881569868140332e-10,\n",
       " 1.4253862567749276e-08,\n",
       " 1.032459964744323e-09,\n",
       " 0.9980928321566106,\n",
       " 0.0019070400666988138,\n",
       " 1.1170221100834218e-07)"
      ]
     },
     "execution_count": 4,
     "metadata": {},
     "output_type": "execute_result"
    }
   ],
   "source": []
  },
  {
   "cell_type": "code",
   "execution_count": 5,
   "id": "7db34773-7a70-41ac-bfb4-f190c78daeda",
   "metadata": {},
   "outputs": [
    {
     "data": {
      "text/plain": [
       "4"
      ]
     },
     "execution_count": 5,
     "metadata": {},
     "output_type": "execute_result"
    }
   ],
   "source": []
  },
  {
   "cell_type": "code",
   "execution_count": null,
   "id": "3fb408a3-5fe6-4d1e-b283-8295ca406b7a",
   "metadata": {},
   "outputs": [],
   "source": []
  }
 ],
 "metadata": {
  "kernelspec": {
   "display_name": "Python 3 (ipykernel)",
   "language": "python",
   "name": "python3"
  },
  "language_info": {
   "codemirror_mode": {
    "name": "ipython",
    "version": 3
   },
   "file_extension": ".py",
   "mimetype": "text/x-python",
   "name": "python",
   "nbconvert_exporter": "python",
   "pygments_lexer": "ipython3",
   "version": "3.9.7"
  }
 },
 "nbformat": 4,
 "nbformat_minor": 5
}
